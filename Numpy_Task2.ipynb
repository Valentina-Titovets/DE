{
 "cells": [
  {
   "cell_type": "code",
   "execution_count": 1,
   "id": "dde099f5",
   "metadata": {},
   "outputs": [
    {
     "name": "stdout",
     "output_type": "stream",
     "text": [
      "Requirement already satisfied: numpy in c:\\users\\valentina\\appdata\\local\\programs\\python\\python310\\lib\\site-packages (1.23.4)\n"
     ]
    }
   ],
   "source": [
    "!pip install numpy"
   ]
  },
  {
   "cell_type": "code",
   "execution_count": 2,
   "id": "fb1c0f9c",
   "metadata": {},
   "outputs": [],
   "source": [
    "import numpy"
   ]
  },
  {
   "cell_type": "code",
   "execution_count": 3,
   "id": "c9c95f05",
   "metadata": {},
   "outputs": [
    {
     "data": {
      "text/plain": [
       "'1.23.4'"
      ]
     },
     "execution_count": 3,
     "metadata": {},
     "output_type": "execute_result"
    }
   ],
   "source": [
    "numpy.__version__"
   ]
  },
  {
   "cell_type": "code",
   "execution_count": 4,
   "id": "8dd51cf4",
   "metadata": {},
   "outputs": [],
   "source": [
    "import numpy as np"
   ]
  },
  {
   "cell_type": "markdown",
   "id": "4a741541",
   "metadata": {},
   "source": [
    "# Упражнения по библиотеке Numpy"
   ]
  },
  {
   "cell_type": "markdown",
   "id": "805c756b",
   "metadata": {},
   "source": [
    "# 1. Дан случайный массив, поменять знак у элементов, значения которых между 3 и 8"
   ]
  },
  {
   "cell_type": "code",
   "execution_count": 5,
   "id": "c69df0dd",
   "metadata": {},
   "outputs": [
    {
     "name": "stdout",
     "output_type": "stream",
     "text": [
      "[ 0  1  2  3 -4 -5 -6 -7  8  9 10]\n"
     ]
    }
   ],
   "source": [
    "a = np.arange(11)\n",
    "a[(3 < a) & (a < 8)] *= -1\n",
    "print(a)"
   ]
  },
  {
   "cell_type": "code",
   "execution_count": null,
   "id": "fdb02667",
   "metadata": {},
   "outputs": [],
   "source": []
  },
  {
   "cell_type": "markdown",
   "id": "38b98bfc",
   "metadata": {},
   "source": [
    "# 2. Заменить максимальный элемент случайного массива на 0"
   ]
  },
  {
   "cell_type": "code",
   "execution_count": 6,
   "id": "351eef77",
   "metadata": {},
   "outputs": [],
   "source": [
    "a = np.random.random(15)\n"
   ]
  },
  {
   "cell_type": "code",
   "execution_count": 7,
   "id": "a3833812",
   "metadata": {},
   "outputs": [
    {
     "name": "stdout",
     "output_type": "stream",
     "text": [
      "[0.00872689 0.51581119 0.5246025  0.7784689  0.43004311 0.5040156\n",
      " 0.62026655 0.81354775 0.20096151 0.36480415 0.8478412  0.73807009\n",
      " 0.39444006 0.4921068  0.80155099]\n"
     ]
    }
   ],
   "source": [
    "print(a)"
   ]
  },
  {
   "cell_type": "code",
   "execution_count": 8,
   "id": "0f86ee1a",
   "metadata": {},
   "outputs": [
    {
     "name": "stdout",
     "output_type": "stream",
     "text": [
      "[0.00872689 0.51581119 0.5246025  0.7784689  0.43004311 0.5040156\n",
      " 0.62026655 0.81354775 0.20096151 0.36480415 0.         0.73807009\n",
      " 0.39444006 0.4921068  0.80155099]\n"
     ]
    }
   ],
   "source": [
    "a[a.argmax()] = 0\n",
    "print(a)"
   ]
  },
  {
   "cell_type": "markdown",
   "id": "f0999fd1",
   "metadata": {},
   "source": [
    "# 3. Построить прямое произведение массивов (все комбинации с каждым элементом). На вход подается двумерный массив"
   ]
  },
  {
   "cell_type": "code",
   "execution_count": 9,
   "id": "b00ec6d7",
   "metadata": {},
   "outputs": [
    {
     "name": "stdout",
     "output_type": "stream",
     "text": [
      "[[1 4 6]\n",
      " [1 4 7]\n",
      " [1 5 6]\n",
      " [1 5 7]\n",
      " [2 4 6]\n",
      " [2 4 7]\n",
      " [2 5 6]\n",
      " [2 5 7]\n",
      " [3 4 6]\n",
      " [3 4 7]\n",
      " [3 5 6]\n",
      " [3 5 7]]\n"
     ]
    }
   ],
   "source": [
    "def cartesian(arrays):\n",
    "    arrays = [np.asarray(a) for a in arrays]\n",
    "    shape = (len(x) for x in arrays)\n",
    "\n",
    "    ix = np.indices(shape, dtype=int)\n",
    "    ix = ix.reshape(len(arrays), -1).T\n",
    "\n",
    "    for n, arr in enumerate(arrays):\n",
    "        ix[:, n] = arrays[n][ix[:, n]]\n",
    "\n",
    "    return ix\n",
    "\n",
    "print (cartesian(([1, 2, 3], [4, 5], [6, 7])))"
   ]
  },
  {
   "cell_type": "markdown",
   "id": "f46f6b3d",
   "metadata": {},
   "source": [
    "# 4. Даны 2 массива A (8x3) и B (2x2). Найти строки в A, которые содержат элементы из каждой строки в B, независимо от порядка элементов в B"
   ]
  },
  {
   "cell_type": "code",
   "execution_count": 10,
   "id": "93d8a1ed",
   "metadata": {},
   "outputs": [
    {
     "name": "stdout",
     "output_type": "stream",
     "text": [
      "[3 4 5 6 7]\n"
     ]
    }
   ],
   "source": [
    "a = np.random.randint(0,5,(8,3))\n",
    "b = np.random.randint(0,5,(2,2))\n",
    "\n",
    "d = (a[..., np.newaxis, np.newaxis] == b)\n",
    "rows = np.where(d.any((3,1)).all(1))[0]\n",
    "print(rows)"
   ]
  },
  {
   "cell_type": "markdown",
   "id": "a8b7c149",
   "metadata": {},
   "source": [
    "# 5. Дана 10x3 матрица, найти строки из неравных значений (например строка [2,2,3] остается, строка [3,3,3] удаляется)"
   ]
  },
  {
   "cell_type": "code",
   "execution_count": 11,
   "id": "85e6927a",
   "metadata": {},
   "outputs": [
    {
     "name": "stdout",
     "output_type": "stream",
     "text": [
      "[[0 0 3]\n",
      " [3 0 3]\n",
      " [1 1 1]\n",
      " [1 1 0]\n",
      " [0 1 0]\n",
      " [1 0 1]\n",
      " [2 4 0]\n",
      " [4 3 4]\n",
      " [1 0 0]\n",
      " [0 4 0]]\n",
      "[[0 0 3]\n",
      " [3 0 3]\n",
      " [1 1 0]\n",
      " [0 1 0]\n",
      " [1 0 1]\n",
      " [2 4 0]\n",
      " [4 3 4]\n",
      " [1 0 0]\n",
      " [0 4 0]]\n",
      "[[0 0 3]\n",
      " [3 0 3]\n",
      " [1 1 0]\n",
      " [0 1 0]\n",
      " [1 0 1]\n",
      " [2 4 0]\n",
      " [4 3 4]\n",
      " [1 0 0]\n",
      " [0 4 0]]\n"
     ]
    }
   ],
   "source": [
    "a = np.random.randint(0,5,(10,3))\n",
    "print(a)\n",
    "\n",
    "b = np.all(a[:,1:] == a[:,:-1], axis=1)\n",
    "c = a[~b]\n",
    "print(c)\n",
    "\n",
    "c = a[a.max(axis=1) != a.min(axis=1),:]\n",
    "print(c)\n"
   ]
  },
  {
   "cell_type": "code",
   "execution_count": null,
   "id": "667251b0",
   "metadata": {},
   "outputs": [],
   "source": []
  },
  {
   "cell_type": "markdown",
   "id": "862bfdc5",
   "metadata": {},
   "source": [
    "# 6. Дан двумерный массив. Удалить те строки, которые повторяются"
   ]
  },
  {
   "cell_type": "code",
   "execution_count": 12,
   "id": "b93dc89b",
   "metadata": {},
   "outputs": [
    {
     "data": {
      "text/plain": [
       "array([1, 2, 3])"
      ]
     },
     "execution_count": 12,
     "metadata": {},
     "output_type": "execute_result"
    }
   ],
   "source": [
    "a = np.array([[1, 1], [2, 3]])\n",
    "np.unique(a)"
   ]
  },
  {
   "cell_type": "markdown",
   "id": "eda650c7",
   "metadata": {},
   "source": [
    "# задача 1 "
   ]
  },
  {
   "cell_type": "code",
   "execution_count": 13,
   "id": "a9fb68f9",
   "metadata": {},
   "outputs": [
    {
     "name": "stdout",
     "output_type": "stream",
     "text": [
      "[[1 0 1]\n",
      " [2 0 2]\n",
      " [3 0 3]\n",
      " [4 4 4]]\n"
     ]
    }
   ],
   "source": [
    "x = np.array([[1,0,1],[2,0,2],[3,0,3],[4,4,4]])\n",
    "print(x)"
   ]
  },
  {
   "cell_type": "code",
   "execution_count": 14,
   "id": "617c7169",
   "metadata": {},
   "outputs": [
    {
     "data": {
      "text/plain": [
       "3"
      ]
     },
     "execution_count": 14,
     "metadata": {},
     "output_type": "execute_result"
    }
   ],
   "source": [
    "\n",
    "np.prod(np.diag(x)[np.diag(x)!=0]  )"
   ]
  },
  {
   "cell_type": "markdown",
   "id": "5322ea32",
   "metadata": {},
   "source": [
    "# задача 2"
   ]
  },
  {
   "cell_type": "code",
   "execution_count": 15,
   "id": "cbec4335",
   "metadata": {},
   "outputs": [],
   "source": [
    "import numpy as np"
   ]
  },
  {
   "cell_type": "code",
   "execution_count": 16,
   "id": "d311760e",
   "metadata": {},
   "outputs": [],
   "source": [
    "x = np.array([1,2,2,4])\n",
    "y = np.array([4,2,1,2])\n",
    "\n",
    "mult = np.isin(x, y)"
   ]
  },
  {
   "cell_type": "code",
   "execution_count": 17,
   "id": "14f97c16",
   "metadata": {},
   "outputs": [
    {
     "data": {
      "text/plain": [
       "array([ True,  True,  True,  True])"
      ]
     },
     "execution_count": 17,
     "metadata": {},
     "output_type": "execute_result"
    }
   ],
   "source": [
    "mult"
   ]
  },
  {
   "cell_type": "code",
   "execution_count": null,
   "id": "65f46af5",
   "metadata": {},
   "outputs": [],
   "source": []
  },
  {
   "cell_type": "markdown",
   "id": "15ffe747",
   "metadata": {},
   "source": [
    "# задача 3"
   ]
  },
  {
   "cell_type": "code",
   "execution_count": 18,
   "id": "167d1737",
   "metadata": {},
   "outputs": [
    {
     "name": "stdout",
     "output_type": "stream",
     "text": [
      "5\n"
     ]
    }
   ],
   "source": [
    "x = np.array([6,2,0,3,0,0,5,7,0])\n",
    "null = x == 0\n",
    "print (x[1:][null[:-1]].max())"
   ]
  },
  {
   "cell_type": "markdown",
   "id": "8444b261",
   "metadata": {},
   "source": [
    "# задача 4 "
   ]
  },
  {
   "cell_type": "code",
   "execution_count": 19,
   "id": "94a7a529",
   "metadata": {},
   "outputs": [],
   "source": [
    " a = [2,2,2,3,3,3,5]"
   ]
  },
  {
   "cell_type": "code",
   "execution_count": 20,
   "id": "0cddee60",
   "metadata": {},
   "outputs": [],
   "source": [
    "import numpy as np\n",
    "\n",
    "def encode(a):\n",
    "    #YOUR CODE\n",
    "    elements=[]\n",
    "    counts=[]\n",
    "    count=1\n",
    "    for i in range(len(a)):\n",
    "        if(i==len(a)-1):\n",
    "            elements.append(a[i])\n",
    "            counts.append(count)\n",
    "            break\n",
    "            \n",
    "        \n",
    "        if(a[i]==a[i+1]):\n",
    "            count+=1\n",
    "        else:\n",
    "                elements.append(a[i])\n",
    "                counts.append(count)\n",
    "                count=1\n",
    "    x=np.array(elements)\n",
    "    s=np.array(counts)\n",
    "\n",
    "    result = (x,s)\n",
    "    return result"
   ]
  },
  {
   "cell_type": "code",
   "execution_count": null,
   "id": "53e2bde9",
   "metadata": {},
   "outputs": [],
   "source": []
  },
  {
   "cell_type": "markdown",
   "id": "2a8e1313",
   "metadata": {},
   "source": [
    "# задача 5"
   ]
  },
  {
   "cell_type": "code",
   "execution_count": 21,
   "id": "230898a0",
   "metadata": {},
   "outputs": [],
   "source": [
    "import numpy as np\n",
    "\n",
    "p1 = np.array((1, 2, 3))\n",
    "p2 = np.array((4, 5, 6))"
   ]
  },
  {
   "cell_type": "code",
   "execution_count": 22,
   "id": "149309bd",
   "metadata": {},
   "outputs": [
    {
     "name": "stdout",
     "output_type": "stream",
     "text": [
      "5.196152422706632\n"
     ]
    }
   ],
   "source": [
    "import math\n",
    "distance = math.dist(p1, p2)\n",
    "print(distance)"
   ]
  },
  {
   "cell_type": "code",
   "execution_count": 23,
   "id": "34d0a43e",
   "metadata": {},
   "outputs": [],
   "source": [
    "import numpy as np\n",
    "\n",
    "p1 = np.array((1, 2, 3))\n",
    "p2 = np.array((4, 5, 6))"
   ]
  },
  {
   "cell_type": "code",
   "execution_count": 24,
   "id": "e49fa407",
   "metadata": {},
   "outputs": [
    {
     "name": "stdout",
     "output_type": "stream",
     "text": [
      "5.196152422706632\n"
     ]
    }
   ],
   "source": [
    "distance = np.sqrt(np.dot(p1-p2, p1-p2))\n",
    "print(distance)"
   ]
  },
  {
   "cell_type": "code",
   "execution_count": null,
   "id": "f50913f8",
   "metadata": {},
   "outputs": [],
   "source": []
  },
  {
   "cell_type": "code",
   "execution_count": null,
   "id": "ca506b39",
   "metadata": {},
   "outputs": [],
   "source": []
  }
 ],
 "metadata": {
  "kernelspec": {
   "display_name": "Python 3 (ipykernel)",
   "language": "python",
   "name": "python3"
  },
  "language_info": {
   "codemirror_mode": {
    "name": "ipython",
    "version": 3
   },
   "file_extension": ".py",
   "mimetype": "text/x-python",
   "name": "python",
   "nbconvert_exporter": "python",
   "pygments_lexer": "ipython3",
   "version": "3.10.8"
  }
 },
 "nbformat": 4,
 "nbformat_minor": 5
}
