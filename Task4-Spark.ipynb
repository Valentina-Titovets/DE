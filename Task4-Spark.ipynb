{
 "cells": [
  {
   "cell_type": "code",
   "execution_count": 15,
   "id": "0c87c498",
   "metadata": {},
   "outputs": [],
   "source": [
    "from pyspark.sql import SparkSession"
   ]
  },
  {
   "cell_type": "code",
   "execution_count": 16,
   "id": "d00b205d",
   "metadata": {},
   "outputs": [],
   "source": [
    "# Create SparkSession\n",
    "spark = SparkSession.builder.getOrCreate()"
   ]
  },
  {
   "cell_type": "code",
   "execution_count": 17,
   "id": "42e92a80",
   "metadata": {},
   "outputs": [],
   "source": [
    "spark = SparkSession \\\n",
    "    .builder \\\n",
    "    .appName(\"Python Spark SQL basic example\") \\\n",
    "    .config(\"spark.some.config.option\", \"some-value\") \\\n",
    "    .getOrCreate()\n"
   ]
  },
  {
   "cell_type": "code",
   "execution_count": 18,
   "id": "c95bd826",
   "metadata": {},
   "outputs": [
    {
     "name": "stdout",
     "output_type": "stream",
     "text": [
      "+-------+-----------+--------------------+\n",
      "|film_id|category_id|         last_update|\n",
      "+-------+-----------+--------------------+\n",
      "|      1|          6|2017-02-15 10:07:...|\n",
      "|      2|         11|2017-02-15 10:07:...|\n",
      "|      3|          6|2017-02-15 10:07:...|\n",
      "|      4|         11|2017-02-15 10:07:...|\n",
      "|      5|          8|2017-02-15 10:07:...|\n",
      "|      6|          9|2017-02-15 10:07:...|\n",
      "|      7|          5|2017-02-15 10:07:...|\n",
      "|      8|         11|2017-02-15 10:07:...|\n",
      "|      9|         11|2017-02-15 10:07:...|\n",
      "|     10|         15|2017-02-15 10:07:...|\n",
      "|     11|          9|2017-02-15 10:07:...|\n",
      "|     12|         12|2017-02-15 10:07:...|\n",
      "|     13|         11|2017-02-15 10:07:...|\n",
      "|     14|          4|2017-02-15 10:07:...|\n",
      "|     15|          9|2017-02-15 10:07:...|\n",
      "|     16|          9|2017-02-15 10:07:...|\n",
      "|     17|         12|2017-02-15 10:07:...|\n",
      "|     18|          2|2017-02-15 10:07:...|\n",
      "|     19|          1|2017-02-15 10:07:...|\n",
      "|     20|         12|2017-02-15 10:07:...|\n",
      "+-------+-----------+--------------------+\n",
      "only showing top 20 rows\n",
      "\n"
     ]
    }
   ],
   "source": [
    "\n",
    "df_film_category = spark.read.option(\"header\",True) \\\n",
    "     .csv(\"film_category.csv\")\n",
    "df_film_category.show()"
   ]
  },
  {
   "cell_type": "code",
   "execution_count": 19,
   "id": "5f5b8174",
   "metadata": {},
   "outputs": [
    {
     "name": "stdout",
     "output_type": "stream",
     "text": [
      "root\n",
      " |-- film_id: string (nullable = true)\n",
      " |-- category_id: string (nullable = true)\n",
      " |-- last_update: string (nullable = true)\n",
      "\n"
     ]
    }
   ],
   "source": [
    "df_film_category.printSchema()"
   ]
  },
  {
   "cell_type": "code",
   "execution_count": 20,
   "id": "ab78817c",
   "metadata": {},
   "outputs": [],
   "source": [
    "df_film_category.createOrReplaceTempView(\"film_category\")"
   ]
  },
  {
   "cell_type": "code",
   "execution_count": 21,
   "id": "69c519ab",
   "metadata": {},
   "outputs": [
    {
     "name": "stdout",
     "output_type": "stream",
     "text": [
      "+-------+-----------+--------------------+\n",
      "|film_id|category_id|         last_update|\n",
      "+-------+-----------+--------------------+\n",
      "|      1|          6|2017-02-15 10:07:...|\n",
      "|      2|         11|2017-02-15 10:07:...|\n",
      "|      3|          6|2017-02-15 10:07:...|\n",
      "|      4|         11|2017-02-15 10:07:...|\n",
      "|      5|          8|2017-02-15 10:07:...|\n",
      "|      6|          9|2017-02-15 10:07:...|\n",
      "|      7|          5|2017-02-15 10:07:...|\n",
      "|      8|         11|2017-02-15 10:07:...|\n",
      "|      9|         11|2017-02-15 10:07:...|\n",
      "|     10|         15|2017-02-15 10:07:...|\n",
      "|     11|          9|2017-02-15 10:07:...|\n",
      "|     12|         12|2017-02-15 10:07:...|\n",
      "|     13|         11|2017-02-15 10:07:...|\n",
      "|     14|          4|2017-02-15 10:07:...|\n",
      "|     15|          9|2017-02-15 10:07:...|\n",
      "|     16|          9|2017-02-15 10:07:...|\n",
      "|     17|         12|2017-02-15 10:07:...|\n",
      "|     18|          2|2017-02-15 10:07:...|\n",
      "|     19|          1|2017-02-15 10:07:...|\n",
      "|     20|         12|2017-02-15 10:07:...|\n",
      "+-------+-----------+--------------------+\n",
      "only showing top 20 rows\n",
      "\n"
     ]
    }
   ],
   "source": [
    "spark.sql(\"select * from film_category\").show()"
   ]
  },
  {
   "cell_type": "code",
   "execution_count": 22,
   "id": "67446955",
   "metadata": {},
   "outputs": [
    {
     "name": "stdout",
     "output_type": "stream",
     "text": [
      "+--------------+\n",
      "|count(film_id)|\n",
      "+--------------+\n",
      "|          1000|\n",
      "+--------------+\n",
      "\n"
     ]
    }
   ],
   "source": [
    "spark.sql(\"select count(film_id)from film_category\").show()"
   ]
  },
  {
   "cell_type": "code",
   "execution_count": 24,
   "id": "0e7e2d2d",
   "metadata": {},
   "outputs": [
    {
     "name": "stdout",
     "output_type": "stream",
     "text": [
      "+-------+----------------+-----------+------------+-----------+--------------------+---------------+-----------+------+----------------+------+--------------------+----------------+--------------------+\n",
      "|film_id|           title|description|release_year|language_id|original_language_id|rental_duration|rental_rate|length|replacement_cost|rating|         last_update|special_features|            fulltext|\n",
      "+-------+----------------+-----------+------------+-----------+--------------------+---------------+-----------+------+----------------+------+--------------------+----------------+--------------------+\n",
      "|   1002|    PRETTY WOMAN|       null|        1990|          1|                null|              1|       4.99|  null|           19.99|     G|2021-12-05 19:11:...|            null|'pretti':1 'woman':2|\n",
      "|   1003|SCENT OF A WOMAN|       null|        1992|          1|                null|              1|       9.99|  null|           19.99|     G|2021-12-05 19:13:...|            null| 'scent':1 'woman':4|\n",
      "|   1004|        DEADPOOL|       null|        2016|          1|                null|              1|      19.99|  null|           19.99|     G|2021-12-05 19:20:...|            null|        'deadpool':1|\n",
      "+-------+----------------+-----------+------------+-----------+--------------------+---------------+-----------+------+----------------+------+--------------------+----------------+--------------------+\n",
      "only showing top 3 rows\n",
      "\n"
     ]
    }
   ],
   "source": [
    "df_film = spark.read.option(\"header\",True) \\\n",
    "     .csv(\"film.csv\")\n",
    "df_film.show(3)"
   ]
  },
  {
   "cell_type": "code",
   "execution_count": 25,
   "id": "5a45c31c",
   "metadata": {},
   "outputs": [],
   "source": [
    "df_film.createOrReplaceTempView(\"film\")"
   ]
  },
  {
   "cell_type": "code",
   "execution_count": 26,
   "id": "970b5f29",
   "metadata": {},
   "outputs": [
    {
     "name": "stdout",
     "output_type": "stream",
     "text": [
      "+-------+----------------+-----------+------------+-----------+--------------------+---------------+-----------+------+----------------+------+--------------------+----------------+--------------------+\n",
      "|film_id|           title|description|release_year|language_id|original_language_id|rental_duration|rental_rate|length|replacement_cost|rating|         last_update|special_features|            fulltext|\n",
      "+-------+----------------+-----------+------------+-----------+--------------------+---------------+-----------+------+----------------+------+--------------------+----------------+--------------------+\n",
      "|   1002|    PRETTY WOMAN|       null|        1990|          1|                null|              1|       4.99|  null|           19.99|     G|2021-12-05 19:11:...|            null|'pretti':1 'woman':2|\n",
      "|   1003|SCENT OF A WOMAN|       null|        1992|          1|                null|              1|       9.99|  null|           19.99|     G|2021-12-05 19:13:...|            null| 'scent':1 'woman':4|\n",
      "|   1004|        DEADPOOL|       null|        2016|          1|                null|              1|      19.99|  null|           19.99|     G|2021-12-05 19:20:...|            null|        'deadpool':1|\n",
      "+-------+----------------+-----------+------------+-----------+--------------------+---------------+-----------+------+----------------+------+--------------------+----------------+--------------------+\n",
      "only showing top 3 rows\n",
      "\n"
     ]
    }
   ],
   "source": [
    "spark.sql(\"select * from film\").show(3)"
   ]
  },
  {
   "cell_type": "code",
   "execution_count": 27,
   "id": "2cf49919",
   "metadata": {},
   "outputs": [
    {
     "name": "stdout",
     "output_type": "stream",
     "text": [
      "+--------------+\n",
      "|count(film_id)|\n",
      "+--------------+\n",
      "|          1065|\n",
      "+--------------+\n",
      "\n"
     ]
    }
   ],
   "source": [
    "spark.sql(\"select count(film_id)from film\").show()"
   ]
  },
  {
   "cell_type": "code",
   "execution_count": 28,
   "id": "23144d4a",
   "metadata": {},
   "outputs": [
    {
     "name": "stdout",
     "output_type": "stream",
     "text": [
      "+-----------+-----------+--------------------+\n",
      "|category_id|       name|         last_update|\n",
      "+-----------+-----------+--------------------+\n",
      "|          1|     Action|2017-02-15 09:46:...|\n",
      "|          2|  Animation|2017-02-15 09:46:...|\n",
      "|          3|   Children|2017-02-15 09:46:...|\n",
      "|          4|   Classics|2017-02-15 09:46:...|\n",
      "|          5|     Comedy|2017-02-15 09:46:...|\n",
      "|          6|Documentary|2017-02-15 09:46:...|\n",
      "|          7|      Drama|2017-02-15 09:46:...|\n",
      "|          8|     Family|2017-02-15 09:46:...|\n",
      "|          9|    Foreign|2017-02-15 09:46:...|\n",
      "|         10|      Games|2017-02-15 09:46:...|\n",
      "|         11|     Horror|2017-02-15 09:46:...|\n",
      "|         12|      Music|2017-02-15 09:46:...|\n",
      "|         13|        New|2017-02-15 09:46:...|\n",
      "|         14|     Sci-Fi|2017-02-15 09:46:...|\n",
      "|         15|     Sports|2017-02-15 09:46:...|\n",
      "|         16|     Travel|2017-02-15 09:46:...|\n",
      "+-----------+-----------+--------------------+\n",
      "\n"
     ]
    }
   ],
   "source": [
    "df_category = spark.read.option(\"header\",True) \\\n",
    "     .csv(\"category.csv\")\n",
    "df_category.show()"
   ]
  },
  {
   "cell_type": "code",
   "execution_count": 29,
   "id": "95a809d9",
   "metadata": {},
   "outputs": [],
   "source": [
    "df_category.createOrReplaceTempView(\"category\")"
   ]
  },
  {
   "cell_type": "code",
   "execution_count": 30,
   "id": "c3ac807c",
   "metadata": {},
   "outputs": [
    {
     "name": "stdout",
     "output_type": "stream",
     "text": [
      "+-------+-----------+--------------------+---------------+--------------------+------------+-----------+--------------------+---------------+-----------+------+----------------+------+--------------------+--------------------+--------------------+\n",
      "|film_id|category_id|         last_update|          title|         description|release_year|language_id|original_language_id|rental_duration|rental_rate|length|replacement_cost|rating|         last_update|    special_features|            fulltext|\n",
      "+-------+-----------+--------------------+---------------+--------------------+------------+-----------+--------------------+---------------+-----------+------+----------------+------+--------------------+--------------------+--------------------+\n",
      "|    306|         10|2017-02-15 10:07:...| FEATHERS METAL|A Thoughtful Yarn...|        2016|          1|                null|              3|       0.99|   104|           12.99| PG-13|2021-11-28 15:50:...|{Trailers,Deleted...|'australia':18 'd...|\n",
      "|    545|          9|2017-02-15 10:07:...|MADNESS ATTACKS|A Fanciful Tale o...|        2004|          1|                null|              4|       0.99|   178|           14.99| PG-13|2021-11-28 15:50:...|          {Trailers}|'attack':2 'boat'...|\n",
      "|     90|         13|2017-02-15 10:07:...|  BOULEVARD MOB|A Fateful Epistle...|        1991|          1|                null|              3|       0.99|    63|           11.99|     R|2021-11-28 15:50:...|          {Trailers}|'ancient':18 'bou...|\n",
      "+-------+-----------+--------------------+---------------+--------------------+------------+-----------+--------------------+---------------+-----------+------+----------------+------+--------------------+--------------------+--------------------+\n",
      "only showing top 3 rows\n",
      "\n"
     ]
    }
   ],
   "source": [
    "\n",
    "df_film_category.join(df_film, how=\"inner\",on=[\"film_id\"]).show(3)"
   ]
  },
  {
   "cell_type": "markdown",
   "id": "56e2be13",
   "metadata": {},
   "source": [
    "# Задача 1"
   ]
  },
  {
   "cell_type": "code",
   "execution_count": 85,
   "id": "33d38dd1",
   "metadata": {},
   "outputs": [
    {
     "name": "stdout",
     "output_type": "stream",
     "text": [
      "+-----------+-----+\n",
      "|name       |count|\n",
      "+-----------+-----+\n",
      "|Sports     |74   |\n",
      "|Foreign    |73   |\n",
      "|Family     |69   |\n",
      "|Documentary|68   |\n",
      "|Animation  |66   |\n",
      "|Action     |64   |\n",
      "|New        |63   |\n",
      "|Drama      |62   |\n",
      "|Games      |61   |\n",
      "|Sci-Fi     |61   |\n",
      "|Children   |60   |\n",
      "|Comedy     |58   |\n",
      "|Travel     |57   |\n",
      "|Classics   |57   |\n",
      "|Horror     |56   |\n",
      "|Music      |51   |\n",
      "+-----------+-----+\n",
      "\n"
     ]
    }
   ],
   "source": [
    "\n",
    "df_film_category.join(df_film,df_film_category.film_id == df_film.film_id,\"inner\") \\\n",
    "   .join(df_category,df_film_category.category_id == df_category.category_id,\"inner\").select(\"name\").groupBy(\"name\").count().sort(col(\"count\").desc()).show(truncate=False)\n"
   ]
  },
  {
   "cell_type": "code",
   "execution_count": 33,
   "id": "537758eb",
   "metadata": {},
   "outputs": [
    {
     "name": "stdout",
     "output_type": "stream",
     "text": [
      "+--------+-------+--------------------+\n",
      "|actor_id|film_id|         last_update|\n",
      "+--------+-------+--------------------+\n",
      "|       1|      1|2017-02-15 10:05:...|\n",
      "|       1|     23|2017-02-15 10:05:...|\n",
      "|       1|     25|2017-02-15 10:05:...|\n",
      "|       1|    106|2017-02-15 10:05:...|\n",
      "|       1|    140|2017-02-15 10:05:...|\n",
      "|       1|    166|2017-02-15 10:05:...|\n",
      "|       1|    277|2017-02-15 10:05:...|\n",
      "|       1|    361|2017-02-15 10:05:...|\n",
      "|       1|    438|2017-02-15 10:05:...|\n",
      "|       1|    499|2017-02-15 10:05:...|\n",
      "|       1|    506|2017-02-15 10:05:...|\n",
      "|       1|    509|2017-02-15 10:05:...|\n",
      "|       1|    605|2017-02-15 10:05:...|\n",
      "|       1|    635|2017-02-15 10:05:...|\n",
      "|       1|    749|2017-02-15 10:05:...|\n",
      "|       1|    832|2017-02-15 10:05:...|\n",
      "|       1|    939|2017-02-15 10:05:...|\n",
      "|       1|    970|2017-02-15 10:05:...|\n",
      "|       1|    980|2017-02-15 10:05:...|\n",
      "|       2|      3|2017-02-15 10:05:...|\n",
      "+--------+-------+--------------------+\n",
      "only showing top 20 rows\n",
      "\n"
     ]
    }
   ],
   "source": [
    "df_film_actor = spark.read.option(\"header\",True) \\\n",
    "     .csv(\"film_actor.csv\")\n",
    "df_film_actor.show()"
   ]
  },
  {
   "cell_type": "code",
   "execution_count": 34,
   "id": "8605097b",
   "metadata": {},
   "outputs": [
    {
     "name": "stdout",
     "output_type": "stream",
     "text": [
      "+--------+----------+------------+--------------------+\n",
      "|actor_id|first_name|   last_name|         last_update|\n",
      "+--------+----------+------------+--------------------+\n",
      "|       1|  PENELOPE|     GUINESS|2017-02-15 09:34:...|\n",
      "|       2|      NICK|    WAHLBERG|2017-02-15 09:34:...|\n",
      "|       3|        ED|       CHASE|2017-02-15 09:34:...|\n",
      "|       4|  JENNIFER|       DAVIS|2017-02-15 09:34:...|\n",
      "|       5|    JOHNNY|LOLLOBRIGIDA|2017-02-15 09:34:...|\n",
      "|       6|     BETTE|   NICHOLSON|2017-02-15 09:34:...|\n",
      "|       7|     GRACE|      MOSTEL|2017-02-15 09:34:...|\n",
      "|       8|   MATTHEW|   JOHANSSON|2017-02-15 09:34:...|\n",
      "|       9|       JOE|       SWANK|2017-02-15 09:34:...|\n",
      "|      10| CHRISTIAN|       GABLE|2017-02-15 09:34:...|\n",
      "|      11|      ZERO|        CAGE|2017-02-15 09:34:...|\n",
      "|      12|      KARL|       BERRY|2017-02-15 09:34:...|\n",
      "|      13|       UMA|        WOOD|2017-02-15 09:34:...|\n",
      "|      14|    VIVIEN|      BERGEN|2017-02-15 09:34:...|\n",
      "|      15|      CUBA|     OLIVIER|2017-02-15 09:34:...|\n",
      "|      16|      FRED|     COSTNER|2017-02-15 09:34:...|\n",
      "|      17|     HELEN|      VOIGHT|2017-02-15 09:34:...|\n",
      "|      18|       DAN|        TORN|2017-02-15 09:34:...|\n",
      "|      19|       BOB|     FAWCETT|2017-02-15 09:34:...|\n",
      "|      20|   LUCILLE|       TRACY|2017-02-15 09:34:...|\n",
      "+--------+----------+------------+--------------------+\n",
      "only showing top 20 rows\n",
      "\n"
     ]
    }
   ],
   "source": [
    "df_actor = spark.read.option(\"header\",True) \\\n",
    "     .csv(\"actor.csv\")\n",
    "df_actor.show()"
   ]
  },
  {
   "cell_type": "code",
   "execution_count": 35,
   "id": "a6b95a0d",
   "metadata": {},
   "outputs": [
    {
     "name": "stdout",
     "output_type": "stream",
     "text": [
      "+---------+--------------------+------------+-----------+--------------------+--------+--------------------+\n",
      "|rental_id|         rental_date|inventory_id|customer_id|         return_date|staff_id|         last_update|\n",
      "+---------+--------------------+------------+-----------+--------------------+--------+--------------------+\n",
      "|        2|2005-05-24 23:54:...|        1525|        459|2005-05-28 20:40:...|       1|2017-02-16 02:30:...|\n",
      "|        3|2005-05-25 00:03:...|        1711|        408|2005-06-01 23:12:...|       1|2017-02-16 02:30:...|\n",
      "|        4|2005-05-25 00:04:...|        2452|        333|2005-06-03 02:43:...|       2|2017-02-16 02:30:...|\n",
      "+---------+--------------------+------------+-----------+--------------------+--------+--------------------+\n",
      "only showing top 3 rows\n",
      "\n"
     ]
    }
   ],
   "source": [
    "df_rental = spark.read.option(\"header\",True) \\\n",
    "     .csv(\"rental.csv\")\n",
    "df_rental.show(3)"
   ]
  },
  {
   "cell_type": "code",
   "execution_count": 69,
   "id": "1d3f9042",
   "metadata": {},
   "outputs": [
    {
     "name": "stdout",
     "output_type": "stream",
     "text": [
      "+------------+-------+--------+--------------------+\n",
      "|inventory_id|film_id|store_id|         last_update|\n",
      "+------------+-------+--------+--------------------+\n",
      "|           1|      1|       1|2017-02-15 10:09:...|\n",
      "|           2|      1|       1|2017-02-15 10:09:...|\n",
      "|           3|      1|       1|2017-02-15 10:09:...|\n",
      "|           4|      1|       1|2017-02-15 10:09:...|\n",
      "|           5|      1|       2|2017-02-15 10:09:...|\n",
      "|           6|      1|       2|2017-02-15 10:09:...|\n",
      "|           7|      1|       2|2017-02-15 10:09:...|\n",
      "|           8|      1|       2|2017-02-15 10:09:...|\n",
      "|           9|      2|       2|2017-02-15 10:09:...|\n",
      "|          10|      2|       2|2017-02-15 10:09:...|\n",
      "|          11|      2|       2|2017-02-15 10:09:...|\n",
      "|          12|      3|       2|2017-02-15 10:09:...|\n",
      "|          13|      3|       2|2017-02-15 10:09:...|\n",
      "|          14|      3|       2|2017-02-15 10:09:...|\n",
      "|          15|      3|       2|2017-02-15 10:09:...|\n",
      "|          16|      4|       1|2017-02-15 10:09:...|\n",
      "|          17|      4|       1|2017-02-15 10:09:...|\n",
      "|          18|      4|       1|2017-02-15 10:09:...|\n",
      "|          19|      4|       1|2017-02-15 10:09:...|\n",
      "|          20|      4|       2|2017-02-15 10:09:...|\n",
      "+------------+-------+--------+--------------------+\n",
      "only showing top 20 rows\n",
      "\n"
     ]
    }
   ],
   "source": [
    "df_inventory = spark.read.option(\"header\",True) \\\n",
    "     .csv(\"inventory.csv\")\n",
    "df_inventory.show()"
   ]
  },
  {
   "cell_type": "code",
   "execution_count": 70,
   "id": "31c9ac8b",
   "metadata": {},
   "outputs": [
    {
     "name": "stdout",
     "output_type": "stream",
     "text": [
      "+--------+----------+------------+--------------------+\n",
      "|actor_id|first_name|   last_name|         last_update|\n",
      "+--------+----------+------------+--------------------+\n",
      "|       1|  PENELOPE|     GUINESS|2017-02-15 09:34:...|\n",
      "|       2|      NICK|    WAHLBERG|2017-02-15 09:34:...|\n",
      "|       3|        ED|       CHASE|2017-02-15 09:34:...|\n",
      "|       4|  JENNIFER|       DAVIS|2017-02-15 09:34:...|\n",
      "|       5|    JOHNNY|LOLLOBRIGIDA|2017-02-15 09:34:...|\n",
      "|       6|     BETTE|   NICHOLSON|2017-02-15 09:34:...|\n",
      "|       7|     GRACE|      MOSTEL|2017-02-15 09:34:...|\n",
      "|       8|   MATTHEW|   JOHANSSON|2017-02-15 09:34:...|\n",
      "|       9|       JOE|       SWANK|2017-02-15 09:34:...|\n",
      "|      10| CHRISTIAN|       GABLE|2017-02-15 09:34:...|\n",
      "|      11|      ZERO|        CAGE|2017-02-15 09:34:...|\n",
      "|      12|      KARL|       BERRY|2017-02-15 09:34:...|\n",
      "|      13|       UMA|        WOOD|2017-02-15 09:34:...|\n",
      "|      14|    VIVIEN|      BERGEN|2017-02-15 09:34:...|\n",
      "|      15|      CUBA|     OLIVIER|2017-02-15 09:34:...|\n",
      "|      16|      FRED|     COSTNER|2017-02-15 09:34:...|\n",
      "|      17|     HELEN|      VOIGHT|2017-02-15 09:34:...|\n",
      "|      18|       DAN|        TORN|2017-02-15 09:34:...|\n",
      "|      19|       BOB|     FAWCETT|2017-02-15 09:34:...|\n",
      "|      20|   LUCILLE|       TRACY|2017-02-15 09:34:...|\n",
      "+--------+----------+------------+--------------------+\n",
      "only showing top 20 rows\n",
      "\n"
     ]
    }
   ],
   "source": [
    "df_actor = spark.read.option(\"header\",True) \\\n",
    "     .csv(\"actor.csv\")\n",
    "df_actor.show()"
   ]
  },
  {
   "cell_type": "code",
   "execution_count": 71,
   "id": "6ef27b8b",
   "metadata": {},
   "outputs": [
    {
     "name": "stdout",
     "output_type": "stream",
     "text": [
      "+----------+-----------+--------+---------+------+--------------------+\n",
      "|payment_id|customer_id|staff_id|rental_id|amount|        payment_date|\n",
      "+----------+-----------+--------+---------+------+--------------------+\n",
      "|     16050|        269|       2|        7|  1.99|2017-01-24 21:40:...|\n",
      "|     16051|        269|       1|       98|  0.99|2017-01-25 15:16:...|\n",
      "|     16052|        269|       2|      678|  6.99|2017-01-28 21:44:...|\n",
      "|     16053|        269|       2|      703|  0.99|2017-01-29 00:58:...|\n",
      "|     16054|        269|       1|      750|  4.99|2017-01-29 08:10:...|\n",
      "|     16055|        269|       2|     1099|  2.99|2017-01-31 12:23:...|\n",
      "|     16056|        270|       1|      193|  1.99|2017-01-26 05:10:...|\n",
      "|     16057|        270|       1|     1040|  4.99|2017-01-31 04:03:...|\n",
      "|     16058|        271|       1|     1096|  8.99|2017-01-31 11:59:...|\n",
      "|     16059|        272|       1|       33|  0.99|2017-01-25 02:47:...|\n",
      "|     16060|        272|       1|      405|  6.99|2017-01-27 12:01:...|\n",
      "|     16061|        272|       1|     1041|  6.99|2017-01-31 04:14:...|\n",
      "|     16062|        272|       1|     1072|  0.99|2017-01-31 08:21:...|\n",
      "|     16063|        273|       2|      122|  3.99|2017-01-25 18:14:...|\n",
      "|     16064|        273|       2|      980|  0.99|2017-01-30 20:13:...|\n",
      "|     16065|        274|       1|      147|  2.99|2017-01-25 22:46:...|\n",
      "|     16066|        274|       1|      208|  4.99|2017-01-26 06:38:...|\n",
      "|     16067|        274|       2|      301|  2.99|2017-01-26 19:34:...|\n",
      "|     16068|        274|       1|      394|  5.99|2017-01-27 09:54:...|\n",
      "|     16069|        274|       2|      474|  2.99|2017-01-27 20:40:...|\n",
      "+----------+-----------+--------+---------+------+--------------------+\n",
      "only showing top 20 rows\n",
      "\n"
     ]
    }
   ],
   "source": [
    "df_payment = spark.read.option(\"header\",True) \\\n",
    "     .csv(\"payment.csv\")\n",
    "df_payment.show()"
   ]
  },
  {
   "cell_type": "code",
   "execution_count": null,
   "id": "5ed8059e",
   "metadata": {},
   "outputs": [],
   "source": []
  },
  {
   "cell_type": "code",
   "execution_count": 129,
   "id": "9a977533",
   "metadata": {},
   "outputs": [
    {
     "name": "stdout",
     "output_type": "stream",
     "text": [
      "+----------+--------------------+--------+--------------+-------+-----------+------------+--------------------+\n",
      "|address_id|             address|address2|      district|city_id|postal_code|       phone|         last_update|\n",
      "+----------+--------------------+--------+--------------+-------+-----------+------------+--------------------+\n",
      "|         1|   47 MySakila Drive|    null|       Alberta|    300|       null|        null|2017-02-15 09:45:...|\n",
      "|         2|  28 MySQL Boulevard|    null|           QLD|    576|       null|        null|2017-02-15 09:45:...|\n",
      "|         3|   23 Workhaven Lane|    null|       Alberta|    300|       null| 14033335568|2017-02-15 09:45:...|\n",
      "|         4|1411 Lillydale Drive|    null|           QLD|    576|       null|  6172235589|2017-02-15 09:45:...|\n",
      "|         5|      1913 Hanoi Way|    null|      Nagasaki|    463|      35200| 28303384290|2017-02-15 09:45:...|\n",
      "|         6|    1121 Loja Avenue|    null|    California|    449|      17886|838635286649|2017-02-15 09:45:...|\n",
      "|         7|   692 Joliet Street|    null|        Attika|     38|      83579|448477190408|2017-02-15 09:45:...|\n",
      "|         8|    1566 Inegl Manor|    null|      Mandalay|    349|      53561|705814003527|2017-02-15 09:45:...|\n",
      "|         9|     53 Idfu Parkway|    null|        Nantou|    361|      42399| 10655648674|2017-02-15 09:45:...|\n",
      "|        10|1795 Santiago de ...|    null|         Texas|    295|      18743|860452626434|2017-02-15 09:45:...|\n",
      "|        11|900 Santiago de C...|    null|Central Serbia|    280|      93896|716571220373|2017-02-15 09:45:...|\n",
      "|        12|      478 Joliet Way|    null|      Hamilton|    200|      77948|657282285970|2017-02-15 09:45:...|\n",
      "|        13|   613 Korolev Drive|    null|        Masqat|    329|      45844|380657522649|2017-02-15 09:45:...|\n",
      "|        14|      1531 Sal Drive|    null|       Esfahan|    162|      53628|648856936185|2017-02-15 09:45:...|\n",
      "|        15| 1542 Tarlac Parkway|    null|      Kanagawa|    440|       1027|635297277345|2017-02-15 09:45:...|\n",
      "|        16|    808 Bhopal Manor|    null|       Haryana|    582|      10672|465887807014|2017-02-15 09:45:...|\n",
      "|        17|  270 Amroha Parkway|    null|      Osmaniye|    384|      29610|695479687538|2017-02-15 09:45:...|\n",
      "|        18|770 Bydgoszcz Avenue|    null|    California|    120|      16266|517338314235|2017-02-15 09:45:...|\n",
      "|        19|     419 Iligan Lane|    null|Madhya Pradesh|     76|      72878|990911107354|2017-02-15 09:45:...|\n",
      "|        20|360 Toulouse Parkway|    null|       England|    495|      54308|949312333307|2017-02-15 09:45:...|\n",
      "+----------+--------------------+--------+--------------+-------+-----------+------------+--------------------+\n",
      "only showing top 20 rows\n",
      "\n"
     ]
    }
   ],
   "source": [
    "df_address = spark.read.option(\"header\",True) \\\n",
    "     .csv(\"address.csv\")\n",
    "df_address.show()"
   ]
  },
  {
   "cell_type": "code",
   "execution_count": 132,
   "id": "c624f72d",
   "metadata": {},
   "outputs": [
    {
     "name": "stdout",
     "output_type": "stream",
     "text": [
      "+-----------+--------+----------+---------+--------------------+----------+----------+-----------+--------------------+------+\n",
      "|customer_id|store_id|first_name|last_name|               email|address_id|activebool|create_date|         last_update|active|\n",
      "+-----------+--------+----------+---------+--------------------+----------+----------+-----------+--------------------+------+\n",
      "|          1|       1|      MARY|    SMITH|MARY.SMITH@sakila...|         5|      true| 2017-02-14|2017-02-15 09:57:...|     1|\n",
      "|          2|       1|  PATRICIA|  JOHNSON|PATRICIA.JOHNSON@...|         6|      true| 2017-02-14|2017-02-15 09:57:...|     1|\n",
      "|          3|       1|     LINDA| WILLIAMS|LINDA.WILLIAMS@sa...|         7|      true| 2017-02-14|2017-02-15 09:57:...|     1|\n",
      "|          5|       1| ELIZABETH|    BROWN|ELIZABETH.BROWN@s...|         9|      true| 2017-02-14|2017-02-15 09:57:...|     1|\n",
      "|          6|       2|  JENNIFER|    DAVIS|JENNIFER.DAVIS@sa...|        10|      true| 2017-02-14|2017-02-15 09:57:...|     1|\n",
      "|          7|       1|     MARIA|   MILLER|MARIA.MILLER@saki...|        11|      true| 2017-02-14|2017-02-15 09:57:...|     1|\n",
      "|          8|       2|     SUSAN|   WILSON|SUSAN.WILSON@saki...|        12|      true| 2017-02-14|2017-02-15 09:57:...|     1|\n",
      "|          9|       2|  MARGARET|    MOORE|MARGARET.MOORE@sa...|        13|      true| 2017-02-14|2017-02-15 09:57:...|     1|\n",
      "|         10|       1|   DOROTHY|   TAYLOR|DOROTHY.TAYLOR@sa...|        14|      true| 2017-02-14|2017-02-15 09:57:...|     1|\n",
      "|         11|       2|      LISA| ANDERSON|LISA.ANDERSON@sak...|        15|      true| 2017-02-14|2017-02-15 09:57:...|     1|\n",
      "|         12|       1|     NANCY|   THOMAS|NANCY.THOMAS@saki...|        16|      true| 2017-02-14|2017-02-15 09:57:...|     1|\n",
      "|         13|       2|     KAREN|  JACKSON|KAREN.JACKSON@sak...|        17|      true| 2017-02-14|2017-02-15 09:57:...|     1|\n",
      "|         14|       2|     BETTY|    WHITE|BETTY.WHITE@sakil...|        18|      true| 2017-02-14|2017-02-15 09:57:...|     1|\n",
      "|         15|       1|     HELEN|   HARRIS|HELEN.HARRIS@saki...|        19|      true| 2017-02-14|2017-02-15 09:57:...|     1|\n",
      "|         16|       2|    SANDRA|   MARTIN|SANDRA.MARTIN@sak...|        20|      true| 2017-02-14|2017-02-15 09:57:...|     0|\n",
      "|         17|       1|     DONNA| THOMPSON|DONNA.THOMPSON@sa...|        21|      true| 2017-02-14|2017-02-15 09:57:...|     1|\n",
      "|         18|       2|     CAROL|   GARCIA|CAROL.GARCIA@saki...|        22|      true| 2017-02-14|2017-02-15 09:57:...|     1|\n",
      "|         19|       1|      RUTH| MARTINEZ|RUTH.MARTINEZ@sak...|        23|      true| 2017-02-14|2017-02-15 09:57:...|     1|\n",
      "|         20|       2|    SHARON| ROBINSON|SHARON.ROBINSON@s...|        24|      true| 2017-02-14|2017-02-15 09:57:...|     1|\n",
      "|         21|       1|  MICHELLE|    CLARK|MICHELLE.CLARK@sa...|        25|      true| 2017-02-14|2017-02-15 09:57:...|     1|\n",
      "+-----------+--------+----------+---------+--------------------+----------+----------+-----------+--------------------+------+\n",
      "only showing top 20 rows\n",
      "\n"
     ]
    }
   ],
   "source": [
    "df_customer = spark.read.option(\"header\",True) \\\n",
    "     .csv(\"customer.csv\")\n",
    "df_customer.show()"
   ]
  },
  {
   "cell_type": "code",
   "execution_count": 135,
   "id": "4067824d",
   "metadata": {},
   "outputs": [
    {
     "name": "stdout",
     "output_type": "stream",
     "text": [
      "+-------+--------------------+----------+--------------------+\n",
      "|city_id|                city|country_id|         last_update|\n",
      "+-------+--------------------+----------+--------------------+\n",
      "|      1|  A Corua (La Corua)|        87|2017-02-15 09:45:...|\n",
      "|      2|                Abha|        82|2017-02-15 09:45:...|\n",
      "|      3|           Abu Dhabi|       101|2017-02-15 09:45:...|\n",
      "|      4|                Acua|        60|2017-02-15 09:45:...|\n",
      "|      5|               Adana|        97|2017-02-15 09:45:...|\n",
      "|      6|         Addis Abeba|        31|2017-02-15 09:45:...|\n",
      "|      7|                Aden|       107|2017-02-15 09:45:...|\n",
      "|      8|               Adoni|        44|2017-02-15 09:45:...|\n",
      "|      9|          Ahmadnagar|        44|2017-02-15 09:45:...|\n",
      "|     10|            Akishima|        50|2017-02-15 09:45:...|\n",
      "|     11|               Akron|       103|2017-02-15 09:45:...|\n",
      "|     12|              al-Ayn|       101|2017-02-15 09:45:...|\n",
      "|     13|           al-Hawiya|        82|2017-02-15 09:45:...|\n",
      "|     14|           al-Manama|        11|2017-02-15 09:45:...|\n",
      "|     15|          al-Qadarif|        89|2017-02-15 09:45:...|\n",
      "|     16|            al-Qatif|        82|2017-02-15 09:45:...|\n",
      "|     17|         Alessandria|        49|2017-02-15 09:45:...|\n",
      "|     18|Allappuzha (Allep...|        44|2017-02-15 09:45:...|\n",
      "|     19|             Allende|        60|2017-02-15 09:45:...|\n",
      "|     20|     Almirante Brown|         6|2017-02-15 09:45:...|\n",
      "+-------+--------------------+----------+--------------------+\n",
      "only showing top 20 rows\n",
      "\n"
     ]
    }
   ],
   "source": [
    "df_city = spark.read.option(\"header\",True) \\\n",
    "     .csv(\"city.csv\")\n",
    "df_city.show()"
   ]
  },
  {
   "cell_type": "code",
   "execution_count": 136,
   "id": "a1928573",
   "metadata": {},
   "outputs": [],
   "source": [
    "df_city.createOrReplaceTempView(\"city\")"
   ]
  },
  {
   "cell_type": "code",
   "execution_count": 133,
   "id": "de07e429",
   "metadata": {},
   "outputs": [],
   "source": [
    "df_customer.createOrReplaceTempView(\"customer\")"
   ]
  },
  {
   "cell_type": "code",
   "execution_count": 73,
   "id": "e3686331",
   "metadata": {},
   "outputs": [],
   "source": [
    "df_inventory.createOrReplaceTempView(\"inventory\")"
   ]
  },
  {
   "cell_type": "code",
   "execution_count": 130,
   "id": "0d662be7",
   "metadata": {},
   "outputs": [],
   "source": [
    "df_address.createOrReplaceTempView(\"address\")"
   ]
  },
  {
   "cell_type": "code",
   "execution_count": 51,
   "id": "6ef41cd2",
   "metadata": {},
   "outputs": [],
   "source": [
    "df_rental.createOrReplaceTempView(\"rental\")"
   ]
  },
  {
   "cell_type": "code",
   "execution_count": 52,
   "id": "e26ec406",
   "metadata": {},
   "outputs": [],
   "source": [
    "df_actor.createOrReplaceTempView(\"actor\")"
   ]
  },
  {
   "cell_type": "code",
   "execution_count": 44,
   "id": "ce869d78",
   "metadata": {},
   "outputs": [],
   "source": [
    "df_film_actor.createOrReplaceTempView(\"film_actor\")"
   ]
  },
  {
   "cell_type": "code",
   "execution_count": 45,
   "id": "b25d5db8",
   "metadata": {},
   "outputs": [],
   "source": [
    "df_film_actor.createOrReplaceTempView(\"film_actor\")"
   ]
  },
  {
   "cell_type": "code",
   "execution_count": 46,
   "id": "6013ac16",
   "metadata": {},
   "outputs": [],
   "source": [
    "df_payment.createOrReplaceTempView(\"payment\")"
   ]
  },
  {
   "cell_type": "markdown",
   "id": "2da42c72",
   "metadata": {},
   "source": [
    "# Задача 2 "
   ]
  },
  {
   "cell_type": "code",
   "execution_count": 89,
   "id": "4ed78eb7",
   "metadata": {},
   "outputs": [
    {
     "name": "stdout",
     "output_type": "stream",
     "text": [
      "+----------+-----------+-----+\n",
      "|first_name|  last_name|count|\n",
      "+----------+-----------+-----+\n",
      "|     SUSAN|      DAVIS| 1634|\n",
      "|      GINA|  DEGENERES| 1480|\n",
      "|   MATTHEW|     CARREY| 1338|\n",
      "|      MARY|     KEITEL| 1328|\n",
      "|    ANGELA|WITHERSPOON| 1296|\n",
      "|    WALTER|       TORN| 1256|\n",
      "|     JAYNE|      NOLTE| 1208|\n",
      "|     HENRY|      BERRY| 1200|\n",
      "|       VAL|     BOLGER| 1192|\n",
      "|    SANDRA|     KILMER| 1184|\n",
      "+----------+-----------+-----+\n",
      "only showing top 10 rows\n",
      "\n"
     ]
    }
   ],
   "source": [
    "df_film.join(df_film_actor,df_film.film_id == df_film_actor.film_id,\"inner\") \\\n",
    "   .join(df_inventory,df_film.film_id == df_inventory.film_id,\"inner\") \\\n",
    "   .join(df_rental,df_inventory.inventory_id == df_rental.inventory_id,\"inner\") \\\n",
    "   .join(df_actor,df_film_actor.actor_id == df_actor.actor_id,\"inner\").select(\"first_name\",\"last_name\").groupBy(\"first_name\",\"last_name\").count().sort(col(\"count\").desc()).show(10)\n"
   ]
  },
  {
   "cell_type": "markdown",
   "id": "9ce8cbb3",
   "metadata": {},
   "source": [
    "# Задача 3"
   ]
  },
  {
   "cell_type": "code",
   "execution_count": 119,
   "id": "9c6f91e4",
   "metadata": {},
   "outputs": [
    {
     "ename": "AttributeError",
     "evalue": "'GroupedData' object has no attribute 'show'",
     "output_type": "error",
     "traceback": [
      "\u001b[1;31m---------------------------------------------------------------------------\u001b[0m",
      "\u001b[1;31mAttributeError\u001b[0m                            Traceback (most recent call last)",
      "Cell \u001b[1;32mIn [119], line 2\u001b[0m\n\u001b[0;32m      1\u001b[0m \u001b[43mdf_film\u001b[49m\u001b[38;5;241;43m.\u001b[39;49m\u001b[43mjoin\u001b[49m\u001b[43m(\u001b[49m\u001b[43mdf_film_category\u001b[49m\u001b[43m,\u001b[49m\u001b[43mdf_film\u001b[49m\u001b[38;5;241;43m.\u001b[39;49m\u001b[43mfilm_id\u001b[49m\u001b[43m \u001b[49m\u001b[38;5;241;43m==\u001b[39;49m\u001b[43m \u001b[49m\u001b[43mdf_film_category\u001b[49m\u001b[38;5;241;43m.\u001b[39;49m\u001b[43mfilm_id\u001b[49m\u001b[43m,\u001b[49m\u001b[38;5;124;43m\"\u001b[39;49m\u001b[38;5;124;43minner\u001b[39;49m\u001b[38;5;124;43m\"\u001b[39;49m\u001b[43m)\u001b[49m\u001b[43m\\\u001b[49m\n\u001b[1;32m----> 2\u001b[0m \u001b[43m       \u001b[49m\u001b[38;5;241;43m.\u001b[39;49m\u001b[43mjoin\u001b[49m\u001b[43m(\u001b[49m\u001b[43mdf_category\u001b[49m\u001b[43m,\u001b[49m\u001b[43mdf_film_category\u001b[49m\u001b[38;5;241;43m.\u001b[39;49m\u001b[43mcategory_id\u001b[49m\u001b[43m \u001b[49m\u001b[38;5;241;43m==\u001b[39;49m\u001b[43m \u001b[49m\u001b[43mdf_category\u001b[49m\u001b[38;5;241;43m.\u001b[39;49m\u001b[43mcategory_id\u001b[49m\u001b[43m,\u001b[49m\u001b[38;5;124;43m\"\u001b[39;49m\u001b[38;5;124;43minner\u001b[39;49m\u001b[38;5;124;43m\"\u001b[39;49m\u001b[43m)\u001b[49m\u001b[38;5;241;43m.\u001b[39;49m\u001b[43mselect\u001b[49m\u001b[43m(\u001b[49m\u001b[38;5;124;43m\"\u001b[39;49m\u001b[38;5;124;43mname\u001b[39;49m\u001b[38;5;124;43m\"\u001b[39;49m\u001b[43m)\u001b[49m\u001b[38;5;241;43m.\u001b[39;49m\u001b[43mgroupBy\u001b[49m\u001b[43m(\u001b[49m\u001b[38;5;124;43m\"\u001b[39;49m\u001b[38;5;124;43mname\u001b[39;49m\u001b[38;5;124;43m\"\u001b[39;49m\u001b[43m)\u001b[49m\u001b[38;5;241;43m.\u001b[39;49m\u001b[43mshow\u001b[49m(truncate\u001b[38;5;241m=\u001b[39m\u001b[38;5;28;01mFalse\u001b[39;00m)\n",
      "\u001b[1;31mAttributeError\u001b[0m: 'GroupedData' object has no attribute 'show'"
     ]
    }
   ],
   "source": [
    "\n",
    "\n",
    " df_film.join(df_film_category,df_film.film_id == df_film_category.film_id,\"inner\")\\\n",
    "        .join(df_category,df_film_category.category_id == df_category.category_id,\"inner\").select(\"name\").groupBy(\"name\").show(truncate=False)\n"
   ]
  },
  {
   "cell_type": "code",
   "execution_count": 102,
   "id": "b682d30c",
   "metadata": {},
   "outputs": [
    {
     "name": "stdout",
     "output_type": "stream",
     "text": [
      "+---------+--------------------+------------+-----------+--------------------+--------+--------------------+------------+-------+--------+--------------------+----------+-----------+--------+---------+------+--------------------+\n",
      "|rental_id|         rental_date|inventory_id|customer_id|         return_date|staff_id|         last_update|inventory_id|film_id|store_id|         last_update|payment_id|customer_id|staff_id|rental_id|amount|        payment_date|\n",
      "+---------+--------------------+------------+-----------+--------------------+--------+--------------------+------------+-------+--------+--------------------+----------+-----------+--------+---------+------+--------------------+\n",
      "|        2|2005-05-24 23:54:...|        1525|        459|2005-05-28 20:40:...|       1|2017-02-16 02:30:...|        1525|    333|       2|2017-02-15 10:09:...|     16406|        459|       2|        2|  2.99|2017-01-24 21:22:...|\n",
      "|        3|2005-05-25 00:03:...|        1711|        408|2005-06-01 23:12:...|       1|2017-02-16 02:30:...|        1711|    373|       2|2017-02-15 10:09:...|     16315|        408|       2|        3|  3.99|2017-01-24 21:32:...|\n",
      "+---------+--------------------+------------+-----------+--------------------+--------+--------------------+------------+-------+--------+--------------------+----------+-----------+--------+---------+------+--------------------+\n",
      "only showing top 2 rows\n",
      "\n"
     ]
    }
   ],
   "source": [
    " \n",
    "  dr2= df_rental.join(df_inventory,df_inventory.inventory_id == df_rental.inventory_id,\"inner\")\\\n",
    "            .join(df_payment,df_rental.rental_id == df_payment.rental_id,\"inner\").show(1)"
   ]
  },
  {
   "cell_type": "markdown",
   "id": "99a1ffeb",
   "metadata": {},
   "source": [
    "# Задача 4"
   ]
  },
  {
   "cell_type": "code",
   "execution_count": 56,
   "id": "ad5da0b2",
   "metadata": {},
   "outputs": [],
   "source": [
    "\n",
    "\n",
    "from pyspark.sql.functions import col\n",
    "from pyspark.sql.types import *\n",
    "from pyspark.sql import Row\n",
    "\n"
   ]
  },
  {
   "cell_type": "code",
   "execution_count": 61,
   "id": "77aa30f5",
   "metadata": {},
   "outputs": [
    {
     "name": "stdout",
     "output_type": "stream",
     "text": [
      "+-------+-----+\n",
      "|film_id|title|\n",
      "+-------+-----+\n",
      "+-------+-----+\n",
      "\n"
     ]
    }
   ],
   "source": [
    "d4 = df_film.join(df_inventory,df_film.film_id == df_inventory.film_id,\"inner\").select(df_film.film_id, df_film.title).filter(col(\"inventory_id\").isNull()).show(truncate=False)\n"
   ]
  },
  {
   "cell_type": "markdown",
   "id": "2146d117",
   "metadata": {},
   "source": [
    "# Задача 5 "
   ]
  },
  {
   "cell_type": "code",
   "execution_count": 126,
   "id": "cf435855",
   "metadata": {},
   "outputs": [
    {
     "name": "stdout",
     "output_type": "stream",
     "text": [
      "+----------+-----------+-----+\n",
      "|first_name|last_name  |count|\n",
      "+----------+-----------+-----+\n",
      "|SUSAN     |DAVIS      |54   |\n",
      "|GINA      |DEGENERES  |42   |\n",
      "|WALTER    |TORN       |41   |\n",
      "|MARY      |KEITEL     |40   |\n",
      "|MATTHEW   |CARREY     |39   |\n",
      "|SANDRA    |KILMER     |37   |\n",
      "|SCARLETT  |DAMON      |36   |\n",
      "|VAL       |BOLGER     |35   |\n",
      "|UMA       |WOOD       |35   |\n",
      "|GROUCHO   |DUNST      |35   |\n",
      "|VIVIEN    |BASINGER   |35   |\n",
      "|HENRY     |BERRY      |35   |\n",
      "|ANGELA    |WITHERSPOON|35   |\n",
      "|ANGELA    |HUDSON     |34   |\n",
      "|WARREN    |NOLTE      |34   |\n",
      "|JAYNE     |NOLTE      |34   |\n",
      "|KIRSTEN   |AKROYD     |34   |\n",
      "|SIDNEY    |CROWE      |34   |\n",
      "|KEVIN     |GARLAND    |33   |\n",
      "|RENEE     |BALL       |33   |\n",
      "+----------+-----------+-----+\n",
      "only showing top 20 rows\n",
      "\n"
     ]
    }
   ],
   "source": [
    "df_film.join(df_film_actor,df_film.film_id == df_film_actor.film_id,\"inner\") \\\n",
    "   .join(df_actor,df_actor.actor_id == df_film_actor.actor_id,\"inner\").groupBy(\"first_name\",\"last_name\").count().sort(col(\"count\").desc()).show(truncate=False)"
   ]
  },
  {
   "cell_type": "code",
   "execution_count": 122,
   "id": "0a3c9d23",
   "metadata": {},
   "outputs": [
    {
     "name": "stdout",
     "output_type": "stream",
     "text": [
      "+-------+-------------------+-------------------------------------------------------------------------------------------------------------------------+------------+-----------+--------------------+---------------+-----------+------+----------------+------+-----------------------------+--------------------------------------------------------+-------------------------------------------------------------------------------------------------------------------------------------------------------------------+-------+-----------+-----------------------------+-----------+--------+-----------------------------+\n",
      "|film_id|title              |description                                                                                                              |release_year|language_id|original_language_id|rental_duration|rental_rate|length|replacement_cost|rating|last_update                  |special_features                                        |fulltext                                                                                                                                                           |film_id|category_id|last_update                  |category_id|name    |last_update                  |\n",
      "+-------+-------------------+-------------------------------------------------------------------------------------------------------------------------+------------+-----------+--------------------+---------------+-----------+------+----------------+------+-----------------------------+--------------------------------------------------------+-------------------------------------------------------------------------------------------------------------------------------------------------------------------+-------+-----------+-----------------------------+-----------+--------+-----------------------------+\n",
      "|48     |BACKLASH UNDEFEATED|A Stunning Character Study of a Mad Scientist And a Mad Cow who must Kill a Car in A Monastery                           |1992        |1          |null                |3              |4.99       |118   |24.99           |PG-13 |2021-11-28 15:50:06.296 +0300|{Trailers,Behind the Scenes}                            |'backlash':1 'car':19 'charact':5 'cow':14 'kill':17 'mad':9,13 'monasteri':22 'must':16 'scientist':10 'studi':6 'stun':4 'undef':2                               |48     |3          |2017-02-15 10:07:09.000 +0300|3          |Children|2017-02-15 09:46:27.000 +0300|\n",
      "|59     |BEAR GRACELAND     |A Astounding Saga of a Dog And a Boy who must Kill a Teacher in The First Manned Space Station                           |2018        |1          |null                |4              |2.99       |160   |20.99           |R     |2021-11-28 15:50:06.296 +0300|{Deleted Scenes}                                        |'astound':4 'bear':1 'boy':11 'dog':8 'first':19 'graceland':2 'kill':14 'man':20 'must':13 'saga':5 'space':21 'station':22 'teacher':16                          |59     |3          |2017-02-15 10:07:09.000 +0300|3          |Children|2017-02-15 09:46:27.000 +0300|\n",
      "|66     |BENEATH RUSH       |A Astounding Panorama of a Man And a Monkey who must Discover a Man in The First Manned Space Station                    |2015        |1          |null                |6              |0.99       |53    |27.99           |NC-17 |2021-11-28 15:50:06.296 +0300|{Commentaries,Deleted Scenes}                           |'astound':4 'beneath':1 'discov':14 'first':19 'man':8,16,20 'monkey':11 'must':13 'panorama':5 'rush':2 'space':21 'station':22                                   |66     |3          |2017-02-15 10:07:09.000 +0300|3          |Children|2017-02-15 09:46:27.000 +0300|\n",
      "|68     |BETRAYED REAR      |A Emotional Character Study of a Boat And a Pioneer who must Find a Explorer in A Shark Tank                             |2000        |1          |null                |5              |4.99       |122   |26.99           |NC-17 |2021-11-28 15:50:06.296 +0300|{Commentaries,Deleted Scenes,Behind the Scenes}         |'betray':1 'boat':9 'charact':5 'emot':4 'explor':17 'find':15 'must':14 'pioneer':12 'rear':2 'shark':20 'studi':6 'tank':21                                      |68     |3          |2017-02-15 10:07:09.000 +0300|3          |Children|2017-02-15 09:46:27.000 +0300|\n",
      "|110    |CABIN FLASH        |A Stunning Epistle of a Boat And a Man who must Challenge a A Shark in A Baloon Factory                                  |2004        |1          |null                |4              |0.99       |53    |25.99           |NC-17 |2021-11-28 15:50:06.296 +0300|{Commentaries,Deleted Scenes}                           |'baloon':20 'boat':8 'cabin':1 'challeng':14 'epistl':5 'factori':21 'flash':2 'man':11 'must':13 'shark':17 'stun':4                                              |110    |3          |2017-02-15 10:07:09.000 +0300|3          |Children|2017-02-15 09:46:27.000 +0300|\n",
      "|124    |CASPER DRAGONFLY   |A Intrepid Documentary of a Boat And a Crocodile who must Chase a Robot in The Sahara Desert                             |2011        |1          |null                |3              |4.99       |163   |16.99           |PG-13 |2021-11-28 15:50:06.296 +0300|{Trailers}                                              |'boat':8 'casper':1 'chase':14 'crocodil':11 'desert':20 'documentari':5 'dragonfli':2 'intrepid':4 'must':13 'robot':16 'sahara':19                               |124    |3          |2017-02-15 10:07:09.000 +0300|3          |Children|2017-02-15 09:46:27.000 +0300|\n",
      "|149    |CHRISTMAS MOONSHINE|A Action-Packed Epistle of a Feminist And a Astronaut who must Conquer a Boat in A Manhattan Penthouse                   |2006        |1          |null                |7              |0.99       |150   |21.99           |NC-17 |2021-11-28 15:50:06.296 +0300|{Trailers,Commentaries,Behind the Scenes}               |'action':5 'action-pack':4 'astronaut':13 'boat':18 'christma':1 'conquer':16 'epistl':7 'feminist':10 'manhattan':21 'moonshin':2 'must':15 'pack':6 'penthous':22|149    |3          |2017-02-15 10:07:09.000 +0300|3          |Children|2017-02-15 09:46:27.000 +0300|\n",
      "|152    |CIRCUS YOUTH       |A Thoughtful Drama of a Pastry Chef And a Dentist who must Pursue a Girl in A Baloon                                     |2016        |1          |null                |5              |2.99       |90    |13.99           |PG-13 |2021-11-28 15:50:06.296 +0300|{Trailers,Deleted Scenes,Behind the Scenes}             |'baloon':20 'chef':9 'circus':1 'dentist':12 'drama':5 'girl':17 'must':14 'pastri':8 'pursu':15 'thought':4 'youth':2                                             |152    |3          |2017-02-15 10:07:09.000 +0300|3          |Children|2017-02-15 09:46:27.000 +0300|\n",
      "|157    |CLOCKWORK PARADISE |A Insightful Documentary of a Technical Writer And a Feminist who must Challenge a Cat in A Baloon                       |2008        |1          |null                |7              |0.99       |143   |29.99           |PG-13 |2021-11-28 15:50:06.296 +0300|{Trailers,Commentaries,Deleted Scenes,Behind the Scenes}|'baloon':20 'cat':17 'challeng':15 'clockwork':1 'documentari':5 'feminist':12 'insight':4 'must':14 'paradis':2 'technic':8 'writer':9                            |157    |3          |2017-02-15 10:07:09.000 +0300|3          |Children|2017-02-15 09:46:27.000 +0300|\n",
      "|168    |COMANCHEROS ENEMY  |A Boring Saga of a Lumberjack And a Monkey who must Find a Monkey in The Gulf of Mexico                                  |2013        |1          |null                |5              |0.99       |67    |23.99           |R     |2021-11-28 15:50:06.296 +0300|{Trailers,Behind the Scenes}                            |'bore':4 'comanchero':1 'enemi':2 'find':14 'gulf':19 'lumberjack':8 'mexico':21 'monkey':11,16 'must':13 'saga':5                                                 |168    |3          |2017-02-15 10:07:09.000 +0300|3          |Children|2017-02-15 09:46:27.000 +0300|\n",
      "|191    |CROOKED FROGMEN    |A Unbelieveable Drama of a Hunter And a Database Administrator who must Battle a Crocodile in An Abandoned Amusement Park|2016        |1          |null                |6              |0.99       |143   |27.99           |PG-13 |2021-11-28 15:50:06.296 +0300|{Commentaries,Deleted Scenes,Behind the Scenes}         |'abandon':20 'administr':12 'amus':21 'battl':15 'crocodil':17 'crook':1 'databas':11 'drama':5 'frogmen':2 'hunter':8 'must':14 'park':22 'unbeliev':4            |191    |3          |2017-02-15 10:07:09.000 +0300|3          |Children|2017-02-15 09:46:27.000 +0300|\n",
      "|214    |DAUGHTER MADIGAN   |A Beautiful Tale of a Hunter And a Mad Scientist who must Confront a Squirrel in The First Manned Space Station          |2002        |1          |null                |3              |4.99       |59    |13.99           |PG-13 |2021-11-28 15:50:06.296 +0300|{Trailers}                                              |'beauti':4 'confront':15 'daughter':1 'first':20 'hunter':8 'mad':11 'madigan':2 'man':21 'must':14 'scientist':12 'space':22 'squirrel':17 'station':23 'tale':5  |214    |3          |2017-02-15 10:07:09.000 +0300|3          |Children|2017-02-15 09:46:27.000 +0300|\n",
      "|238    |DOCTOR GRAIL       |A Insightful Drama of a Womanizer And a Waitress who must Reach a Forensic Psychologist in The Outback                   |1993        |1          |null                |4              |2.99       |57    |29.99           |G     |2021-11-28 15:50:06.296 +0300|{Trailers,Commentaries,Behind the Scenes}               |'doctor':1 'drama':5 'forens':16 'grail':2 'insight':4 'must':13 'outback':20 'psychologist':17 'reach':14 'waitress':11 'woman':8                                 |238    |3          |2017-02-15 10:07:09.000 +0300|3          |Children|2017-02-15 09:46:27.000 +0300|\n",
      "|280    |EMPIRE MALKOVICH   |A Amazing Story of a Feminist And a Cat who must Face a Car in An Abandoned Fun House                                    |2005        |1          |null                |7              |0.99       |177   |26.99           |G     |2021-11-28 15:50:06.296 +0300|{Deleted Scenes}                                        |'abandon':19 'amaz':4 'car':16 'cat':11 'empir':1 'face':14 'feminist':8 'fun':20 'hous':21 'malkovich':2 'must':13 'stori':5                                      |280    |3          |2017-02-15 10:07:09.000 +0300|3          |Children|2017-02-15 09:46:27.000 +0300|\n",
      "|304    |FARGO GANDHI       |A Thrilling Reflection of a Pastry Chef And a Crocodile who must Reach a Teacher in The Outback                          |1998        |1          |null                |3              |2.99       |130   |28.99           |G     |2021-11-28 15:50:06.296 +0300|{Deleted Scenes}                                        |'chef':9 'crocodil':12 'fargo':1 'gandhi':2 'must':14 'outback':20 'pastri':8 'reach':15 'reflect':5 'teacher':17 'thrill':4                                       |304    |3          |2017-02-15 10:07:09.000 +0300|3          |Children|2017-02-15 09:46:27.000 +0300|\n",
      "|328    |FOREVER CANDIDATE  |A Unbelieveable Panorama of a Technical Writer And a Man who must Pursue a Frisbee in A U-Boat                           |2002        |1          |null                |7              |2.99       |131   |28.99           |NC-17 |2021-11-28 15:50:06.296 +0300|{Commentaries,Deleted Scenes,Behind the Scenes}         |'boat':22 'candid':2 'forev':1 'frisbe':17 'man':12 'must':14 'panorama':5 'pursu':15 'technic':8 'u':21 'u-boat':20 'unbeliev':4 'writer':9                       |328    |3          |2017-02-15 10:07:09.000 +0300|3          |Children|2017-02-15 09:46:27.000 +0300|\n",
      "|343    |FULL FLATLINERS    |A Beautiful Documentary of a Astronaut And a Moose who must Pursue a Monkey in A Shark Tank                              |2006        |1          |null                |6              |2.99       |94    |14.99           |PG    |2021-11-28 15:50:06.296 +0300|{Trailers,Deleted Scenes}                               |'astronaut':8 'beauti':4 'documentari':5 'flatlin':2 'full':1 'monkey':16 'moos':11 'must':13 'pursu':14 'shark':19 'tank':20                                      |343    |3          |2017-02-15 10:07:09.000 +0300|3          |Children|2017-02-15 09:46:27.000 +0300|\n",
      "|344    |FURY MURDER        |A Lacklusture Reflection of a Boat And a Forensic Psychologist who must Fight a Waitress in A Monastery                  |2012        |1          |null                |3              |0.99       |178   |28.99           |PG-13 |2021-11-28 15:50:06.296 +0300|{Deleted Scenes}                                        |'boat':8 'fight':15 'forens':11 'furi':1 'lacklustur':4 'monasteri':20 'murder':2 'must':14 'psychologist':12 'reflect':5 'waitress':17                            |344    |3          |2017-02-15 10:07:09.000 +0300|3          |Children|2017-02-15 09:46:27.000 +0300|\n",
      "|354    |GHOST GROUNDHOG    |A Brilliant Panorama of a Madman And a Composer who must Succumb a Car in Ancient India                                  |2010        |1          |null                |6              |4.99       |85    |18.99           |G     |2021-11-28 15:50:06.296 +0300|{Trailers,Commentaries,Deleted Scenes,Behind the Scenes}|'ancient':18 'brilliant':4 'car':16 'compos':11 'ghost':1 'groundhog':2 'india':19 'madman':8 'must':13 'panorama':5 'succumb':14                                  |354    |3          |2017-02-15 10:07:09.000 +0300|3          |Children|2017-02-15 09:46:27.000 +0300|\n",
      "|356    |GIANT TROOPERS     |A Fateful Display of a Feminist And a Monkey who must Vanquish a Monkey in The Canadian Rockies                          |2001        |1          |null                |5              |2.99       |102   |10.99           |R     |2021-11-28 15:50:06.296 +0300|{Trailers,Commentaries}                                 |'canadian':19 'display':5 'fate':4 'feminist':8 'giant':1 'monkey':11,16 'must':13 'rocki':20 'trooper':2 'vanquish':14                                            |356    |3          |2017-02-15 10:07:09.000 +0300|3          |Children|2017-02-15 09:46:27.000 +0300|\n",
      "+-------+-------------------+-------------------------------------------------------------------------------------------------------------------------+------------+-----------+--------------------+---------------+-----------+------+----------------+------+-----------------------------+--------------------------------------------------------+-------------------------------------------------------------------------------------------------------------------------------------------------------------------+-------+-----------+-----------------------------+-----------+--------+-----------------------------+\n",
      "only showing top 20 rows\n",
      "\n"
     ]
    }
   ],
   "source": [
    "\n",
    "df_film.join(df_film_category,df_film.film_id == df_film_category.film_id,\"inner\")\\\n",
    "       .join(df_category,df_category.category_id == df_film_category.category_id,\"inner\").filter(df_category.name  == \"Children\").show(truncate=False) "
   ]
  },
  {
   "cell_type": "markdown",
   "id": "53f0084e",
   "metadata": {},
   "source": [
    "# Задача 6"
   ]
  },
  {
   "cell_type": "code",
   "execution_count": 139,
   "id": "c8e4daf3",
   "metadata": {},
   "outputs": [
    {
     "name": "stdout",
     "output_type": "stream",
     "text": [
      "+----------+--------------+--------+--------+-------+-----------+-----------+--------------------+-----------+--------+----------+---------+--------------------+----------+----------+-----------+--------------------+------+-------+------+----------+--------------------+\n",
      "|address_id|       address|address2|district|city_id|postal_code|      phone|         last_update|customer_id|store_id|first_name|last_name|               email|address_id|activebool|create_date|         last_update|active|city_id|  city|country_id|         last_update|\n",
      "+----------+--------------+--------+--------+-------+-----------+-----------+--------------------+-----------+--------+----------+---------+--------------------+----------+----------+-----------+--------------------+------+-------+------+----------+--------------------+\n",
      "|         5|1913 Hanoi Way|    null|Nagasaki|    463|      35200|28303384290|2017-02-15 09:45:...|          1|       1|      MARY|    SMITH|MARY.SMITH@sakila...|         5|      true| 2017-02-14|2017-02-15 09:57:...|     1|    463|Sasebo|        50|2017-02-15 09:45:...|\n",
      "+----------+--------------+--------+--------+-------+-----------+-----------+--------------------+-----------+--------+----------+---------+--------------------+----------+----------+-----------+--------------------+------+-------+------+----------+--------------------+\n",
      "only showing top 1 row\n",
      "\n"
     ]
    }
   ],
   "source": [
    "df_address.join(df_customer,df_address.address_id == df_customer.address_id,\"inner\")\\\n",
    "          .join(df_city,df_address.city_id == df_city.city_id,\"inner\").show(1)"
   ]
  },
  {
   "cell_type": "code",
   "execution_count": 142,
   "id": "49e2bad5",
   "metadata": {},
   "outputs": [
    {
     "ename": "NameError",
     "evalue": "name 'when' is not defined",
     "output_type": "error",
     "traceback": [
      "\u001b[1;31m---------------------------------------------------------------------------\u001b[0m",
      "\u001b[1;31mNameError\u001b[0m                                 Traceback (most recent call last)",
      "Cell \u001b[1;32mIn [142], line 1\u001b[0m\n\u001b[1;32m----> 1\u001b[0m df2 \u001b[38;5;241m=\u001b[39m df_customer\u001b[38;5;241m.\u001b[39mwithColumn(df_customer\u001b[38;5;241m.\u001b[39mactive, \u001b[43mwhen\u001b[49m(df_customer\u001b[38;5;241m.\u001b[39mactive \u001b[38;5;241m==\u001b[39m \u001b[38;5;124m\"\u001b[39m\u001b[38;5;124m1\u001b[39m\u001b[38;5;124m\"\u001b[39m,\u001b[38;5;124m\"\u001b[39m\u001b[38;5;124mactive\u001b[39m\u001b[38;5;124m\"\u001b[39m)\n\u001b[0;32m      2\u001b[0m                                  \u001b[38;5;241m.\u001b[39mwhen(df_customer\u001b[38;5;241m.\u001b[39mactive \u001b[38;5;241m==\u001b[39m \u001b[38;5;124m\"\u001b[39m\u001b[38;5;124m0\u001b[39m\u001b[38;5;124m\"\u001b[39m,\u001b[38;5;124m\"\u001b[39m\u001b[38;5;124mno-active\u001b[39m\u001b[38;5;124m\"\u001b[39m)\n\u001b[0;32m      3\u001b[0m                                  \u001b[38;5;241m.\u001b[39motherwise(df_customer\u001b[38;5;241m.\u001b[39mactive))\n\u001b[0;32m      4\u001b[0m df2\u001b[38;5;241m.\u001b[39mshow()\n",
      "\u001b[1;31mNameError\u001b[0m: name 'when' is not defined"
     ]
    }
   ],
   "source": [
    "df2 = df_customer.withColumn(df_customer.active, when(df_customer.active == \"1\",\"active\")\n",
    "                                 .when(df_customer.active == \"0\",\"no-active\")\n",
    "                                 .otherwise(df_customer.active))\n",
    "df2.show()"
   ]
  },
  {
   "cell_type": "code",
   "execution_count": null,
   "id": "4d658169",
   "metadata": {},
   "outputs": [],
   "source": []
  }
 ],
 "metadata": {
  "kernelspec": {
   "display_name": "Python 3 (ipykernel)",
   "language": "python",
   "name": "python3"
  },
  "language_info": {
   "codemirror_mode": {
    "name": "ipython",
    "version": 3
   },
   "file_extension": ".py",
   "mimetype": "text/x-python",
   "name": "python",
   "nbconvert_exporter": "python",
   "pygments_lexer": "ipython3",
   "version": "3.10.8"
  }
 },
 "nbformat": 4,
 "nbformat_minor": 5
}
